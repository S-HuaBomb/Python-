{
 "cells": [
  {
   "cell_type": "markdown",
   "metadata": {
    "collapsed": false
   },
   "source": [
    "# 参考答案"
   ]
  },
  {
   "cell_type": "markdown",
   "metadata": {
    "collapsed": false,
    "pycharm": {
     "name": "#%% md\n"
    }
   },
   "source": [
    "## 问题描述：实现一个算法判断字符串是否包含唯一字符。"
   ]
  },
  {
   "cell_type": "markdown",
   "metadata": {
    "collapsed": false,
    "pycharm": {
     "name": "#%% md\n"
    }
   },
   "source": [
    "## 条件\n",
    "* 是否可以假设字符串是 ASCⅡ？\n",
    "    * 可以\n",
    "    * Notes：基于你的语言，Unicode 字符串可能需要特殊处理\n",
    "* 可以假定这是区分大小写的？\n",
    "    * 可以\n",
    "* 是否可以使用额外的数据结构？\n",
    "    * 可以\n",
    "* 是否可以假定内存合适？\n",
    "    * 可以"
   ]
  },
  {
   "cell_type": "markdown",
   "metadata": {
    "collapsed": false,
    "pycharm": {
     "name": "#%% md\n"
    }
   },
   "source": [
    "## 测试用例\n",
    "* None -> Flase\n",
    "* '' -> True\n",
    "* 'foo' -> False\n",
    "* 'bar' -> True"
   ]
  },
  {
   "cell_type": "markdown",
   "metadata": {
    "collapsed": false,
    "pycharm": {
     "name": "#%% md\n"
    }
   },
   "source": [
    "## 算法1：集合长度与字符串长度比较\n",
    "集合中的元素是唯一的。\n",
    "* If 集合`set(string)`的长度与字符串长度相等\n",
    "  * Return True\n",
    "* Else\n",
    "  * Return False\n",
    "  \n",
    "复杂度：\n",
    "* 时间：O(n)\n",
    "* 空间：O(n)"
   ]
  },
  {
   "cell_type": "markdown",
   "metadata": {
    "collapsed": false,
    "pycharm": {
     "name": "#%% md\n"
    }
   },
   "source": [
    "## 代码："
   ]
  },
  {
   "cell_type": "code",
   "execution_count": 2,
   "metadata": {},
   "outputs": [],
   "source": [
    "class UniqueCharsSet:\n",
    "    \n",
    "    def has_unique_chars(self, string):\n",
    "        if string is None:\n",
    "            return False\n",
    "        return len(set(string)) == len(string)\n",
    "    "
   ]
  },
  {
   "cell_type": "markdown",
   "metadata": {
    "collapsed": false,
    "pycharm": {
     "name": "#%% md\n"
    }
   },
   "source": [
    "## 算法2：Hash Map 查找\n",
    "维持一个 hash map (set) 来记录遍历到的唯一字符\n",
    "\n",
    "步骤：\n",
    "* 遍历字符串\n",
    "* 对每一个字符：\n",
    "  * If 字符未在 hash map 中\n",
    "    * 将其加入\n",
    "  * Else\n",
    "    * return False\n",
    "    \n",
    "* return True\n",
    "\n",
    "Notes：\n",
    "* 我们可以用 `dict`，但由于集合中的元素是唯一的，所以用 `set` 更加合理\n",
    "* 由于字符串是 ASCⅡ 格式的，还可以使用128大小的数组（扩展 ASCⅡ 为 256）\n",
    "\n",
    "复杂度：\n",
    "* 时间：O(n)\n",
    "* 空间：O(n)"
   ]
  },
  {
   "cell_type": "markdown",
   "metadata": {
    "collapsed": false,
    "pycharm": {
     "name": "#%% md\n"
    }
   },
   "source": [
    "## 代码："
   ]
  },
  {
   "cell_type": "code",
   "execution_count": 1,
   "metadata": {},
   "outputs": [],
   "source": [
    "class UniqueChars:\n",
    "    \n",
    "    def has_unique_chars(self, string):\n",
    "        if string is None:\n",
    "            return False\n",
    "        chars_set = set()\n",
    "        for char in string:\n",
    "            if char in chars_set:\n",
    "                return False\n",
    "            chars_set.add(char)\n",
    "        return True\n",
    "    "
   ]
  },
  {
   "cell_type": "markdown",
   "metadata": {
    "collapsed": false,
    "pycharm": {
     "name": "#%% md\n"
    }
   },
   "source": [
    "## 算法3：In-Place\n",
    "假设不能使用额外的数据结构，这样的话我们就失去了 hash map 提供的 O(1) 的快速查找\n",
    "* 便利字符串\n",
    "* 对每个字符：\n",
    "  * 统计它在字符串中出现的次数\n",
    "  * If 重复出现\n",
    "    * return False\n",
    "* return True\n",
    "\n",
    "复杂度：\n",
    "* 时间：O($n^2$)\n",
    "* 空间：O(1)"
   ]
  },
  {
   "cell_type": "markdown",
   "metadata": {
    "collapsed": false,
    "pycharm": {
     "name": "#%% md\n"
    }
   },
   "source": [
    "## 代码："
   ]
  },
  {
   "cell_type": "code",
   "execution_count": 3,
   "metadata": {},
   "outputs": [],
   "source": [
    "class UniquecharsInPlace:\n",
    "    \n",
    "    def has_unique_chars(self, string):\n",
    "        if string is None:\n",
    "            return False\n",
    "        for char in string:\n",
    "            if string.count(char) > 1:\n",
    "                return False\n",
    "        return True\n",
    "    "
   ]
  },
  {
   "cell_type": "markdown",
   "metadata": {
    "collapsed": false,
    "pycharm": {
     "name": "#%% md\n"
    }
   },
   "source": [
    "## 单元测试"
   ]
  },
  {
   "cell_type": "code",
   "execution_count": 4,
   "metadata": {},
   "outputs": [
    {
     "name": "stdout",
     "output_type": "stream",
     "text": "Writing test_unique_chars.py\n"
    }
   ],
   "source": [
    "%%writefile test_unique_chars.py\n",
    "from nose.tools import assert_equal\n",
    "\n",
    "class TestUniqueChars:\n",
    "    \n",
    "    def test_unique_chars(self, func):\n",
    "        assert_equal(func(None), False)\n",
    "        assert_equal(func(''), True)\n",
    "        assert_equal(func('foo'), False)\n",
    "        assert_equal(func('bar'), True)\n",
    "        print('Success: test_unique_chars!')\n",
    "        \n",
    "def main():\n",
    "    test = TestUniqueChars()\n",
    "    unique_chars = UniqueChars()\n",
    "    test.test_unique_chars(unique_chars.has_unique_chars)\n",
    "    try:\n",
    "        unique_chars_set = UniqueCharsSet()\n",
    "        unique_chars_in_place = UniquecharsInPlace()\n",
    "        test.test_unique_chars(unique_chars_set.has_unique_chars)\n",
    "        test.test_unique_chars(unique_chars_in_place.has_unique_chars)\n",
    "    except NameError:\n",
    "        pass\n",
    "    \n",
    "if __name__ == '__main__':\n",
    "    main()\n",
    "    "
   ]
  },
  {
   "cell_type": "code",
   "execution_count": 5,
   "metadata": {},
   "outputs": [
    {
     "name": "stdout",
     "output_type": "stream",
     "text": "Success: test_unique_chars!\nSuccess: test_unique_chars!\nSuccess: test_unique_chars!\n"
    }
   ],
   "source": [
    "%run -i test_unique_chars.py"
   ]
  },
  {
   "cell_type": "code",
   "execution_count": 6,
   "metadata": {},
   "outputs": [],
   "source": [
    "%%writefile?\n",
    "\n"
   ]
  }
 ],
 "metadata": {
  "kernelspec": {
   "name": "pycharm-42487b7f",
   "language": "python",
   "display_name": "PyCharm (python-100-challenge)"
  },
  "language_info": {
   "codemirror_mode": {
    "name": "ipython",
    "version": 2
   },
   "file_extension": ".py",
   "mimetype": "text/x-python",
   "name": "python",
   "nbconvert_exporter": "python",
   "pygments_lexer": "ipython2",
   "version": "3.7.4-final"
  },
  "pycharm": {
   "stem_cell": {
    "cell_type": "raw",
    "source": [],
    "metadata": {
     "collapsed": false
    }
   }
  }
 },
 "nbformat": 4,
 "nbformat_minor": 0
}