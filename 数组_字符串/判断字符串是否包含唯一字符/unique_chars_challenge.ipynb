{
 "cells": [
  {
   "cell_type": "markdown",
   "source": [
    "## 问题描述：实现一个算法判断字符串是否包含唯一字符。"
   ],
   "metadata": {
    "collapsed": false
   }
  },
  {
   "cell_type": "markdown",
   "source": [
    "## 条件\n",
    "* 是否可以假设字符串是 ASCⅡ？\n",
    "    * 可以\n",
    "    * Notes：基于你的语言，Unicode 字符串可能需要特殊处理\n",
    "* 可以假定这是区分大小写的？\n",
    "    * 可以\n",
    "* 是否可以使用额外的数据结构？\n",
    "    * 可以\n",
    "* 是否可以假定内存合适？\n",
    "    * 可以"
   ],
   "metadata": {
    "collapsed": false
   }
  },
  {
   "cell_type": "markdown",
   "source": [
    "## 测试用例\n",
    "* None -> Flase\n",
    "* '' -> True\n",
    "* 'foo' -> False\n",
    "* 'bar' -> True\n",
    "\n"
   ],
   "metadata": {
    "collapsed": false
   }
  },
  {
   "cell_type": "markdown",
   "source": [
    "## 代码："
   ],
   "metadata": {
    "collapsed": false
   }
  },
  {
   "cell_type": "code",
   "execution_count": null,
   "outputs": [],
   "source": [
    "class UniqueChars:\n",
    "    \n",
    "    def has_unique_chars(self):\n",
    "        # TODO: Implement me\n",
    "        pass"
   ],
   "metadata": {
    "collapsed": false,
    "pycharm": {
     "name": "#%%\n"
    }
   }
  },
  {
   "cell_type": "markdown",
   "source": [
    "## 单元测试"
   ],
   "metadata": {
    "collapsed": false
   }
  },
  {
   "cell_type": "code",
   "execution_count": null,
   "outputs": [],
   "source": [
    "%load test_unique_chars.py"
   ],
   "metadata": {
    "collapsed": false,
    "pycharm": {
     "name": "#%%\n"
    }
   }
  }
 ],
 "metadata": {
  "kernelspec": {
   "display_name": "Python 3",
   "language": "python",
   "name": "python3"
  },
  "language_info": {
   "codemirror_mode": {
    "name": "ipython",
    "version": 2
   },
   "file_extension": ".py",
   "mimetype": "text/x-python",
   "name": "python",
   "nbconvert_exporter": "python",
   "pygments_lexer": "ipython2",
   "version": "2.7.6"
  },
  "pycharm": {
   "stem_cell": {
    "cell_type": "raw",
    "source": [],
    "metadata": {
     "collapsed": false
    }
   }
  }
 },
 "nbformat": 4,
 "nbformat_minor": 0
}