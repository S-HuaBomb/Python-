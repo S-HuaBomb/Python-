{
 "nbformat": 4,
 "nbformat_minor": 2,
 "metadata": {
  "language_info": {
   "name": "python",
   "codemirror_mode": {
    "name": "ipython",
    "version": 3
   },
   "version": "3.7.4-final"
  },
  "orig_nbformat": 2,
  "file_extension": ".py",
  "mimetype": "text/x-python",
  "name": "python",
  "npconvert_exporter": "python",
  "pygments_lexer": "ipython3",
  "version": 3,
  "kernelspec": {
   "name": "pycharm-42487b7f",
   "display_name": "PyCharm (python-100-challenge)"
  }
 },
 "cells": [
  {
   "cell_type": "markdown",
   "metadata": {},
   "source": [
    "# 问题描述：判断一个字符串是否是另一个字符串的不同排列"
   ]
  },
  {
   "cell_type": "markdown",
   "metadata": {},
   "source": [
    "## 限制条件\n",
    "* 是否可以假设字符串是 ASCII？\n",
    "    * 可以\n",
    "    * Notes：基于你的语言，Unicode 字符串可能需要特殊处理\n",
    "* Is whitespace important？\n",
    "  * Yes\n",
    "* 区分大小写吗？'Nib', 'bin' 不匹配?\n",
    "    * 是的\n",
    "* 可以使用额外的数据结构吗？\n",
    "    * 可以\n",
    "* 可以假定内存合适？\n",
    "    * 可以"
   ]
  },
  {
   "cell_type": "markdown",
   "metadata": {},
   "source": [
    "## 测试用例\n",
    "* 没有输入 -> False\n",
    "* 空白字符串 -> False\n",
    "* 'Nib', 'bin' -> False\n",
    "* 'act', 'cat' -> True\n",
    "* 'a ct', 'ca t' -> True"
   ]
  },
  {
   "cell_type": "markdown",
   "metadata": {},
   "source": [
    "## 算法1：比较排序后的字符串\n",
    "不同排列的字符串意味着有相同的字符，仅仅是字符排列不同。\n",
    "* 将两个字符串排序\n",
    "* If 排序后的两个字符串相等\n",
    "  * return True\n",
    "* Else\n",
    "  * rteurn False\n",
    "\n",
    "复杂度：\n",
    "* 时间：O($ n \\log_2n $)\n",
    "* 空间： O(n)"
   ]
  },
  {
   "cell_type": "markdown",
   "metadata": {},
   "source": [
    "## 代码：比较排序后的字符串"
   ]
  },
  {
   "cell_type": "code",
   "execution_count": 20,
   "metadata": {},
   "outputs": [],
   "source": [
    "class Permutation:\n",
    "\n",
    "    def is_permutation(self, str1, str2):\n",
    "        if str1 is None or str2 is None:\n",
    "            return False\n",
    "        return sorted(str1) == sorted(str2)"
   ]
  },
  {
   "cell_type": "markdown",
   "metadata": {},
   "source": [
    "## 算法2：Hash map 查找\n",
    "用一个 hash map (dict) 来记录遍历过的字符。\n",
    "步骤：\n",
    "* 遍历每一个字符\n",
    "* 对于字符串中的每一个字符：\n",
    "  * If 字符不在 hash map 中，加入\n",
    "  * Else，该字符的数量加1\n",
    "* If 两个字符串的 hash map 相等\n",
    "  * return True\n",
    "* Else\n",
    "  * return False"
   ]
  },
  {
   "cell_type": "markdown",
   "metadata": {},
   "source": [
    "## Notes：\n",
    "* Since the characters are in ASCII, we could potentially use an array of size 128 (or 256 for extended ASCII), where each array index is equivalent to an ASCII value\n",
    "* Instead of using two hash maps, you could use one hash map and increment character values based on the first string and decrement based on the second string\n",
    "* You can short circuit if the lengths of each string are not equal, although len() in Python is generally O(1) unlike other languages like C where getting the length of a string is O(n)"
   ]
  },
  {
   "cell_type": "markdown",
   "metadata": {},
   "source": [
    "## 复杂度\n",
    "* 时间：O(n)\n",
    "* 空间：O(n)"
   ]
  },
  {
   "cell_type": "markdown",
   "metadata": {},
   "source": [
    "## 代码：hash map 查找"
   ]
  },
  {
   "cell_type": "code",
   "execution_count": 21,
   "metadata": {},
   "outputs": [],
   "source": [
    "from collections import defaultdict\n",
    "\n",
    "class PermutationAlt:\n",
    "\n",
    "    def is_permutauion(self, str1, str2):\n",
    "        if str1 is None or str2  is None:\n",
    "            return False\n",
    "        if len(str1) != len(str2):\n",
    "            return False\n",
    "        char_count1 = defaultdict(int)\n",
    "        char_count2 = defaultdict(int)\n",
    "        for char in str1:\n",
    "            char_count1[char] += 1\n",
    "        for char in str2:\n",
    "            char_count2[char] += 1\n",
    "        return char_count1 == char_count2\n",
    "        "
   ]
  },
  {
   "cell_type": "markdown",
   "metadata": {},
   "source": [
    "## 单元测试"
   ]
  },
  {
   "cell_type": "code",
   "execution_count": 22,
   "metadata": {},
   "outputs": [
    {
     "name": "stdout",
     "output_type": "stream",
     "text": "Overwriting test_permutation_solution.py\n"
    }
   ],
   "source": [
    "%%writefile test_permutation_solution.py\n",
    "from nose.tools import assert_equal\n",
    "\n",
    "class TestPermutation:\n",
    "    \n",
    "    def test_permutation(self, func):\n",
    "        assert_equal(func(None, 'foo'), False)\n",
    "        assert_equal(func('', 'foo'), False)\n",
    "        assert_equal(func('Nib', 'bin'), False)\n",
    "        assert_equal(func('a ct', 'ca t'), True)\n",
    "        assert_equal(func('dog', 'doggo'), False)\n",
    "        print('Success: Test_permutation')\n",
    "\n",
    "def main():\n",
    "    test = TestPermutation()\n",
    "    permutation = Permutation()\n",
    "    test.test_permutation(permutation.is_permutation)\n",
    "    try:\n",
    "        permutation_alt = PermutationAlt()\n",
    "        test.test_permutation(permutation_alt.is_permutauion)\n",
    "    except NameError:\n",
    "        # permutation_alt 仅在permutation_solution中定义\n",
    "        pass\n",
    "\n",
    "if __name__ == '__main__':\n",
    "    main()\n"
   ]
  },
  {
   "cell_type": "code",
   "execution_count": 24,
   "metadata": {},
   "outputs": [
    {
     "name": "stdout",
     "output_type": "stream",
     "text": "Success: Test_permutation\nSuccess: Test_permutation\n"
    }
   ],
   "source": [
    "%run -i test_permutation_solution.py"
   ]
  }
 ]
}