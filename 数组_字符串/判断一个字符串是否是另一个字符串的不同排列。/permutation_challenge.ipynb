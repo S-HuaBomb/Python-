{
 "nbformat": 4,
 "nbformat_minor": 2,
 "metadata": {
  "language_info": {
   "name": "python",
   "codemirror_mode": {
    "name": "ipython",
    "version": 3
   },
   "version": "3.7.4-final"
  },
  "orig_nbformat": 2,
  "file_extension": ".py",
  "mimetype": "text/x-python",
  "name": "python",
  "npconvert_exporter": "python",
  "pygments_lexer": "ipython3",
  "version": 3,
  "kernelspec": {
   "name": "pycharm-42487b7f",
   "display_name": "PyCharm (python-100-challenge)"
  }
 },
 "cells": [
  {
   "cell_type": "markdown",
   "metadata": {},
   "source": [
    "# 问题描述：判断一个字符串是否是另一个字符串的不同排列"
   ]
  },
  {
   "cell_type": "markdown",
   "metadata": {},
   "source": [
    "## 限制条件\n",
    "* 是否可以假设字符串是 ASCII？\n",
    "    * 可以\n",
    "    * Notes：基于你的语言，Unicode 字符串可能需要特殊处理\n",
    "* Is whitespace important？\n",
    "  * Yes\n",
    "* 区分大小写吗？'Nib', 'bin' 不匹配?\n",
    "    * 是的\n",
    "* 可以使用额外的数据结构吗？\n",
    "    * 可以\n",
    "* 可以假定内存合适？\n",
    "    * 可以"
   ]
  },
  {
   "cell_type": "markdown",
   "metadata": {},
   "source": [
    "## 测试用例\n",
    "* 没有输入 -> False\n",
    "* 空白字符串 -> False\n",
    "* 'Nib', 'bin' -> False\n",
    "* 'act', 'cat' -> True\n",
    "* 'a ct', 'ca t' -> True"
   ]
  },
  {
   "cell_type": "markdown",
   "metadata": {},
   "source": [
    "## 参考答案\n",
    "参考[permutation_solution]()。如果你思维卡住了需要一点提示，里面的算法是不错的参考"
   ]
  },
  {
   "cell_type": "markdown",
   "metadata": {},
   "source": [
    "## 代码"
   ]
  },
  {
   "cell_type": "code",
   "execution_count": 8,
   "metadata": {},
   "outputs": [],
   "source": [
    "class Permutation:\n",
    "\n",
    "    def is_permutation(self, str1, str2):\n",
    "        # TODO 敲下你的解决方法\n",
    "        pass"
   ]
  },
  {
   "cell_type": "markdown",
   "metadata": {},
   "source": [
    "## 单元测试\n",
    "以下的单元测试只要有一个样例不通过就会以失败告终。"
   ]
  },
  {
   "cell_type": "code",
   "execution_count": 9,
   "metadata": {},
   "outputs": [],
   "source": [
    "#%load test_permutation_solution.py\n",
    "from nose.tools import assert_equal\n",
    "\n",
    "class TestPermutation:\n",
    "    \n",
    "    def test_permutation(self, func):\n",
    "        assert_equal(func(None, 'foo'), False)\n",
    "        assert_equal(func('', 'foo'), False)\n",
    "        assert_equal(func('Nib', 'bin'), False)\n",
    "        assert_equal(func('a ct', 'ca t'), True)\n",
    "        assert_equal(func('dog', 'doggo'), False)\n",
    "        print('Success: Test_permutation')\n",
    "\n",
    "def main():\n",
    "    test = TestPermutation()\n",
    "    permutation = Permutation()\n",
    "    test.test_permutation(permutation.is_permutation)\n",
    "    try:\n",
    "        permutation_alt = PermutationAlt()\n",
    "        test.test_permutation(permutation_alt.is_permutauion)\n",
    "    except NameError:\n",
    "        # permutation_alt 仅在permutation_solution中定义\n",
    "        pass\n"
   ]
  }
 ]
}